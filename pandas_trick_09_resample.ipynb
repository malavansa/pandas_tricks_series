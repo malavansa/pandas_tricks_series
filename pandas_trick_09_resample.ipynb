{
 "cells": [
  {
   "cell_type": "code",
   "execution_count": 3,
   "metadata": {},
   "outputs": [
    {
     "data": {
      "text/plain": [
       "2024-11-01 00:00:00     6\n",
       "2024-11-01 00:00:03    15\n",
       "2024-11-01 00:00:06    24\n",
       "2024-11-01 00:00:09    10\n",
       "Freq: 3S, dtype: int64"
      ]
     },
     "execution_count": 3,
     "metadata": {},
     "output_type": "execute_result"
    }
   ],
   "source": [
    "import pandas as pd\n",
    "import numpy as np\n",
    "\n",
    "S = pd.Series(range(1, 11), index=pd.date_range('20241101', periods=10, freq='s'))\n",
    "S.resample('3s').sum()"
   ]
  },
  {
   "cell_type": "code",
   "execution_count": 4,
   "metadata": {},
   "outputs": [
    {
     "name": "stdout",
     "output_type": "stream",
     "text": [
      "                Value\n",
      "Date                 \n",
      "2024-01-31  47.032258\n",
      "2024-02-29  51.206897\n",
      "2024-03-31  52.290323\n",
      "2024-04-30  49.555556\n"
     ]
    }
   ],
   "source": [
    "# Sample time series data\n",
    "rng = pd.date_range('2024-01-01', periods=100, freq='D')\n",
    "data = pd.DataFrame({'Date': rng, 'Value': np.random.randint(0, 100, len(rng))})\n",
    "data.set_index('Date', inplace=True)\n",
    "\n",
    "# Resample to monthly frequency and calculate mean\n",
    "monthly_data = data.resample('M').mean()\n",
    "print(monthly_data)\n"
   ]
  },
  {
   "cell_type": "code",
   "execution_count": 5,
   "metadata": {},
   "outputs": [
    {
     "name": "stdout",
     "output_type": "stream",
     "text": [
      "            Sales\n",
      "Timestamp        \n",
      "2024-01-01    282\n",
      "2024-01-03    353\n",
      "2024-01-05    582\n",
      "2024-01-07    668\n",
      "2024-01-09    351\n"
     ]
    }
   ],
   "source": [
    "data = pd.DataFrame({\n",
    "    'Timestamp': pd.date_range('2024-01-01', periods=10, freq='D'),\n",
    "    'Sales': np.random.randint(100, 500, 10)\n",
    "})\n",
    "\n",
    "# Resample using 'Timestamp' column\n",
    "resampled_data = data.resample('2D', on='Timestamp').sum()\n",
    "print(resampled_data)\n"
   ]
  }
 ],
 "metadata": {
  "kernelspec": {
   "display_name": "Python 3",
   "language": "python",
   "name": "python3"
  },
  "language_info": {
   "codemirror_mode": {
    "name": "ipython",
    "version": 3
   },
   "file_extension": ".py",
   "mimetype": "text/x-python",
   "name": "python",
   "nbconvert_exporter": "python",
   "pygments_lexer": "ipython3",
   "version": "3.10.11"
  }
 },
 "nbformat": 4,
 "nbformat_minor": 2
}
